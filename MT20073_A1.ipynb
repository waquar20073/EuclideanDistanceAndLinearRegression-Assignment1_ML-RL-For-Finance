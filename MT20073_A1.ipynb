{
  "nbformat": 4,
  "nbformat_minor": 5,
  "metadata": {
    "kernelspec": {
      "display_name": "Python 3",
      "language": "python",
      "name": "python3"
    },
    "language_info": {
      "codemirror_mode": {
        "name": "ipython",
        "version": 3
      },
      "file_extension": ".py",
      "mimetype": "text/x-python",
      "name": "python",
      "nbconvert_exporter": "python",
      "pygments_lexer": "ipython3",
      "version": "3.9.5"
    },
    "colab": {
      "name": "ML_RL_Finance_A1.ipynb",
      "provenance": []
    }
  },
  "cells": [
    {
      "cell_type": "markdown",
      "metadata": {
        "id": "a777d7e4"
      },
      "source": [
        "**Imports**"
      ],
      "id": "a777d7e4"
    },
    {
      "cell_type": "code",
      "metadata": {
        "id": "6ij3tJKsR-js"
      },
      "source": [
        "# Dependencies\n",
        "!pip install pandas\n",
        "!pip install tensorflow\n",
        "!pip install scikit-learn --user\n",
        "!pip install matplotlib\n",
        "!pip install seaborn\n",
        "!pip install numpy"
      ],
      "id": "6ij3tJKsR-js",
      "execution_count": null,
      "outputs": []
    },
    {
      "cell_type": "code",
      "metadata": {
        "id": "1254e014"
      },
      "source": [
        "import pandas as pd\n",
        "import tensorflow as tf\n",
        "from sklearn import linear_model\n",
        "import matplotlib.pyplot as plt\n",
        "from sklearn.decomposition import PCA\n",
        "import seaborn as sns\n",
        "from sklearn import preprocessing\n",
        "from sklearn.model_selection import train_test_split\n",
        "import numpy as np\n",
        "from sklearn.linear_model import LinearRegression\n",
        "from sklearn.metrics.pairwise import euclidean_distances"
      ],
      "id": "1254e014",
      "execution_count": 215,
      "outputs": []
    },
    {
      "cell_type": "markdown",
      "metadata": {
        "id": "5A9gUQByPwGK"
      },
      "source": [
        "# Question 1\n",
        "**Write a program to calculate Euclidean Distance.**\n",
        "**Instruction:** Euclidean Distance Calculation. In this question you will compute Euclidean distance between elements in n-dimensional space. Each coordinate of a point in n-dimensional space is sampled from Uniform distribution. Use Numpy library."
      ],
      "id": "5A9gUQByPwGK"
    },
    {
      "cell_type": "markdown",
      "metadata": {
        "id": "DlRTFwvUzK9U"
      },
      "source": [
        "Create Dataset"
      ],
      "id": "DlRTFwvUzK9U"
    },
    {
      "cell_type": "code",
      "metadata": {
        "id": "ZQAVswa5Pvvy"
      },
      "source": [
        "# Parameters for Dataset\n",
        "instances = 500\n",
        "features = 3\n",
        "\n",
        "data1 = np.random.uniform( low=0, high=1, size=(instances, features)) #sampled from Uniform distribution\n",
        "data2 = np.random.uniform( low=0, high=1, size=(instances, features)) #sampled from Uniform distribution"
      ],
      "id": "ZQAVswa5Pvvy",
      "execution_count": 213,
      "outputs": []
    },
    {
      "cell_type": "code",
      "metadata": {
        "colab": {
          "base_uri": "https://localhost:8080/"
        },
        "id": "QkZaYdSc0cc1",
        "outputId": "d3a12c89-9745-446c-f872-f9f954324163"
      },
      "source": [
        "print( 'Data1: ',data1,data1.shape )\n",
        "print( 'Data2: ', data2,data2.shape )"
      ],
      "id": "QkZaYdSc0cc1",
      "execution_count": 226,
      "outputs": [
        {
          "output_type": "stream",
          "text": [
            "Data1:  [[0.35847408 0.03418792 0.28876396]\n",
            " [0.78074429 0.5411553  0.40492829]\n",
            " [0.88044507 0.71921186 0.20671949]\n",
            " ...\n",
            " [0.19299919 0.01191242 0.02481273]\n",
            " [0.1032982  0.32799928 0.48938589]\n",
            " [0.86442295 0.49217398 0.0549513 ]] (500, 3)\n",
            "Data2:  [[0.56539687 0.28220238 0.00586594]\n",
            " [0.18881413 0.86305189 0.90818461]\n",
            " [0.93617781 0.49008558 0.73072621]\n",
            " ...\n",
            " [0.72176867 0.01160163 0.20657344]\n",
            " [0.49157224 0.25317561 0.72839185]\n",
            " [0.46068416 0.83648981 0.55942867]] (500, 3)\n"
          ],
          "name": "stdout"
        }
      ]
    },
    {
      "cell_type": "markdown",
      "metadata": {
        "id": "TxRtgbxX0x2d"
      },
      "source": [
        "Now, finding euclidean distance between each sample point in the two data, using sklearn"
      ],
      "id": "TxRtgbxX0x2d"
    },
    {
      "cell_type": "code",
      "metadata": {
        "colab": {
          "base_uri": "https://localhost:8080/",
          "height": 0
        },
        "id": "AEyH6S_j1Bz0",
        "outputId": "4427247f-da28-427e-8d16-f509b14bfe5f"
      },
      "source": [
        "print(euclidean_distances(data1,data2))"
      ],
      "id": "AEyH6S_j1Bz0",
      "execution_count": 218,
      "outputs": [
        {
          "output_type": "stream",
          "text": [
            "[[0.42937106 1.04856184 0.85843748 ... 0.37315999 0.50886482 0.85287432]\n",
            " [0.52218951 0.84099088 0.36457095 ... 0.56855066 0.52075085 0.4620945 ]\n",
            " [0.57495635 0.99553836 0.57461991 ... 0.72518305 0.80034612 0.56067557]\n",
            " ...\n",
            " [0.46053846 1.22670363 1.13105167 ... 0.55913702 0.80148448 1.01852703]\n",
            " [0.67039098 0.684826   0.8821596  ... 0.75006404 0.46203805 0.6254545 ]\n",
            " [0.36866522 1.14978467 0.67957697 ... 0.52372636 0.80601492 0.73215833]]\n"
          ],
          "name": "stdout"
        }
      ]
    },
    {
      "cell_type": "markdown",
      "metadata": {
        "id": "pTJs-n_r1lQM"
      },
      "source": [
        "Now, using Euclidean Distance function, from scratch using numpy"
      ],
      "id": "pTJs-n_r1lQM"
    },
    {
      "cell_type": "code",
      "metadata": {
        "colab": {
          "base_uri": "https://localhost:8080/",
          "height": 0
        },
        "id": "9rqabfDL1qnD",
        "outputId": "44661bc7-c524-4587-85e5-3a2fa5f82ebf"
      },
      "source": [
        "def euclidean_distance(x,y):\n",
        "  distances = []\n",
        "  for a in x:\n",
        "    distance = []\n",
        "    for b in y:\n",
        "      distance.append(np.linalg.norm(a - b))\n",
        "    distances.append(np.array(distance))\n",
        "  return np.array(distances)\n",
        "euclidean_distance(data1,data2)"
      ],
      "id": "9rqabfDL1qnD",
      "execution_count": 225,
      "outputs": [
        {
          "output_type": "execute_result",
          "data": {
            "text/plain": [
              "array([[0.42937106, 1.04856184, 0.85843748, ..., 0.37315999, 0.50886482,\n",
              "        0.85287432],\n",
              "       [0.52218951, 0.84099088, 0.36457095, ..., 0.56855066, 0.52075085,\n",
              "        0.4620945 ],\n",
              "       [0.57495635, 0.99553836, 0.57461991, ..., 0.72518305, 0.80034612,\n",
              "        0.56067557],\n",
              "       ...,\n",
              "       [0.46053846, 1.22670363, 1.13105167, ..., 0.55913702, 0.80148448,\n",
              "        1.01852703],\n",
              "       [0.67039098, 0.684826  , 0.8821596 , ..., 0.75006404, 0.46203805,\n",
              "        0.6254545 ],\n",
              "       [0.36866522, 1.14978467, 0.67957697, ..., 0.52372636, 0.80601492,\n",
              "        0.73215833]])"
            ]
          },
          "metadata": {
            "tags": []
          },
          "execution_count": 225
        }
      ]
    },
    {
      "cell_type": "markdown",
      "metadata": {
        "id": "af6558c3"
      },
      "source": [
        "# Question 2\n",
        "**Write a program to implement Linear Regression.** <br>\n",
        "**Instruction:** In this question you will implement linear regression model using three Python packages:  <br>\n",
        "scikit-learn, numpy, and tensorflow.  <br>\n",
        "Use ‘Iris dataset (https://archive.ics.uci.edu/ml/datasets/iris)’.  <br>\n",
        "The grader expects the first value to be the y_intercept (a) and then the rest of the coefficients.\n"
      ],
      "id": "af6558c3"
    },
    {
      "cell_type": "code",
      "metadata": {
        "colab": {
          "base_uri": "https://localhost:8080/",
          "height": 434
        },
        "id": "01c72bc3",
        "outputId": "55da4085-cf5a-4998-b727-2d74c710a92a"
      },
      "source": [
        "filepath = 'https://drive.google.com/file/d/1LkwjepbuI_UuuxyWBSeRZHX9ocncY7rh/view?usp=sharing'\n",
        "file_id = filepath.split('/')[-2]\n",
        "filepath ='https://drive.google.com/uc?id=' + file_id\n",
        "iris_df = pd.read_csv(filepath,header=None, names=('SepalLength','SepalWidth','PetalLength','PetalWidth','PlantClass',))\n",
        "print(\"DATASET\")\n",
        "iris_df"
      ],
      "id": "01c72bc3",
      "execution_count": null,
      "outputs": [
        {
          "output_type": "stream",
          "text": [
            "DATASET\n"
          ],
          "name": "stdout"
        },
        {
          "output_type": "execute_result",
          "data": {
            "text/html": [
              "<div>\n",
              "<style scoped>\n",
              "    .dataframe tbody tr th:only-of-type {\n",
              "        vertical-align: middle;\n",
              "    }\n",
              "\n",
              "    .dataframe tbody tr th {\n",
              "        vertical-align: top;\n",
              "    }\n",
              "\n",
              "    .dataframe thead th {\n",
              "        text-align: right;\n",
              "    }\n",
              "</style>\n",
              "<table border=\"1\" class=\"dataframe\">\n",
              "  <thead>\n",
              "    <tr style=\"text-align: right;\">\n",
              "      <th></th>\n",
              "      <th>SepalLength</th>\n",
              "      <th>SepalWidth</th>\n",
              "      <th>PetalLength</th>\n",
              "      <th>PetalWidth</th>\n",
              "      <th>PlantClass</th>\n",
              "    </tr>\n",
              "  </thead>\n",
              "  <tbody>\n",
              "    <tr>\n",
              "      <th>0</th>\n",
              "      <td>5.1</td>\n",
              "      <td>3.5</td>\n",
              "      <td>1.4</td>\n",
              "      <td>0.2</td>\n",
              "      <td>Iris-setosa</td>\n",
              "    </tr>\n",
              "    <tr>\n",
              "      <th>1</th>\n",
              "      <td>4.9</td>\n",
              "      <td>3.0</td>\n",
              "      <td>1.4</td>\n",
              "      <td>0.2</td>\n",
              "      <td>Iris-setosa</td>\n",
              "    </tr>\n",
              "    <tr>\n",
              "      <th>2</th>\n",
              "      <td>4.7</td>\n",
              "      <td>3.2</td>\n",
              "      <td>1.3</td>\n",
              "      <td>0.2</td>\n",
              "      <td>Iris-setosa</td>\n",
              "    </tr>\n",
              "    <tr>\n",
              "      <th>3</th>\n",
              "      <td>4.6</td>\n",
              "      <td>3.1</td>\n",
              "      <td>1.5</td>\n",
              "      <td>0.2</td>\n",
              "      <td>Iris-setosa</td>\n",
              "    </tr>\n",
              "    <tr>\n",
              "      <th>4</th>\n",
              "      <td>5.0</td>\n",
              "      <td>3.6</td>\n",
              "      <td>1.4</td>\n",
              "      <td>0.2</td>\n",
              "      <td>Iris-setosa</td>\n",
              "    </tr>\n",
              "    <tr>\n",
              "      <th>...</th>\n",
              "      <td>...</td>\n",
              "      <td>...</td>\n",
              "      <td>...</td>\n",
              "      <td>...</td>\n",
              "      <td>...</td>\n",
              "    </tr>\n",
              "    <tr>\n",
              "      <th>145</th>\n",
              "      <td>6.7</td>\n",
              "      <td>3.0</td>\n",
              "      <td>5.2</td>\n",
              "      <td>2.3</td>\n",
              "      <td>Iris-virginica</td>\n",
              "    </tr>\n",
              "    <tr>\n",
              "      <th>146</th>\n",
              "      <td>6.3</td>\n",
              "      <td>2.5</td>\n",
              "      <td>5.0</td>\n",
              "      <td>1.9</td>\n",
              "      <td>Iris-virginica</td>\n",
              "    </tr>\n",
              "    <tr>\n",
              "      <th>147</th>\n",
              "      <td>6.5</td>\n",
              "      <td>3.0</td>\n",
              "      <td>5.2</td>\n",
              "      <td>2.0</td>\n",
              "      <td>Iris-virginica</td>\n",
              "    </tr>\n",
              "    <tr>\n",
              "      <th>148</th>\n",
              "      <td>6.2</td>\n",
              "      <td>3.4</td>\n",
              "      <td>5.4</td>\n",
              "      <td>2.3</td>\n",
              "      <td>Iris-virginica</td>\n",
              "    </tr>\n",
              "    <tr>\n",
              "      <th>149</th>\n",
              "      <td>5.9</td>\n",
              "      <td>3.0</td>\n",
              "      <td>5.1</td>\n",
              "      <td>1.8</td>\n",
              "      <td>Iris-virginica</td>\n",
              "    </tr>\n",
              "  </tbody>\n",
              "</table>\n",
              "<p>150 rows × 5 columns</p>\n",
              "</div>"
            ],
            "text/plain": [
              "     SepalLength  SepalWidth  PetalLength  PetalWidth      PlantClass\n",
              "0            5.1         3.5          1.4         0.2     Iris-setosa\n",
              "1            4.9         3.0          1.4         0.2     Iris-setosa\n",
              "2            4.7         3.2          1.3         0.2     Iris-setosa\n",
              "3            4.6         3.1          1.5         0.2     Iris-setosa\n",
              "4            5.0         3.6          1.4         0.2     Iris-setosa\n",
              "..           ...         ...          ...         ...             ...\n",
              "145          6.7         3.0          5.2         2.3  Iris-virginica\n",
              "146          6.3         2.5          5.0         1.9  Iris-virginica\n",
              "147          6.5         3.0          5.2         2.0  Iris-virginica\n",
              "148          6.2         3.4          5.4         2.3  Iris-virginica\n",
              "149          5.9         3.0          5.1         1.8  Iris-virginica\n",
              "\n",
              "[150 rows x 5 columns]"
            ]
          },
          "metadata": {
            "tags": []
          },
          "execution_count": 7
        }
      ]
    },
    {
      "cell_type": "markdown",
      "metadata": {
        "id": "aa3db95b"
      },
      "source": [
        "# Exploratory Data Analysis"
      ],
      "id": "aa3db95b"
    },
    {
      "cell_type": "code",
      "metadata": {
        "id": "406bfab8",
        "outputId": "ba7a528f-eaf4-4f4a-84e2-d6f21f41422e"
      },
      "source": [
        "iris_df.describe()"
      ],
      "id": "406bfab8",
      "execution_count": null,
      "outputs": [
        {
          "output_type": "execute_result",
          "data": {
            "text/html": [
              "<div>\n",
              "<style scoped>\n",
              "    .dataframe tbody tr th:only-of-type {\n",
              "        vertical-align: middle;\n",
              "    }\n",
              "\n",
              "    .dataframe tbody tr th {\n",
              "        vertical-align: top;\n",
              "    }\n",
              "\n",
              "    .dataframe thead th {\n",
              "        text-align: right;\n",
              "    }\n",
              "</style>\n",
              "<table border=\"1\" class=\"dataframe\">\n",
              "  <thead>\n",
              "    <tr style=\"text-align: right;\">\n",
              "      <th></th>\n",
              "      <th>5.1</th>\n",
              "      <th>3.5</th>\n",
              "      <th>1.4</th>\n",
              "      <th>0.2</th>\n",
              "    </tr>\n",
              "  </thead>\n",
              "  <tbody>\n",
              "    <tr>\n",
              "      <th>count</th>\n",
              "      <td>149.000000</td>\n",
              "      <td>149.000000</td>\n",
              "      <td>149.000000</td>\n",
              "      <td>149.000000</td>\n",
              "    </tr>\n",
              "    <tr>\n",
              "      <th>mean</th>\n",
              "      <td>5.848322</td>\n",
              "      <td>3.051007</td>\n",
              "      <td>3.774497</td>\n",
              "      <td>1.205369</td>\n",
              "    </tr>\n",
              "    <tr>\n",
              "      <th>std</th>\n",
              "      <td>0.828594</td>\n",
              "      <td>0.433499</td>\n",
              "      <td>1.759651</td>\n",
              "      <td>0.761292</td>\n",
              "    </tr>\n",
              "    <tr>\n",
              "      <th>min</th>\n",
              "      <td>4.300000</td>\n",
              "      <td>2.000000</td>\n",
              "      <td>1.000000</td>\n",
              "      <td>0.100000</td>\n",
              "    </tr>\n",
              "    <tr>\n",
              "      <th>25%</th>\n",
              "      <td>5.100000</td>\n",
              "      <td>2.800000</td>\n",
              "      <td>1.600000</td>\n",
              "      <td>0.300000</td>\n",
              "    </tr>\n",
              "    <tr>\n",
              "      <th>50%</th>\n",
              "      <td>5.800000</td>\n",
              "      <td>3.000000</td>\n",
              "      <td>4.400000</td>\n",
              "      <td>1.300000</td>\n",
              "    </tr>\n",
              "    <tr>\n",
              "      <th>75%</th>\n",
              "      <td>6.400000</td>\n",
              "      <td>3.300000</td>\n",
              "      <td>5.100000</td>\n",
              "      <td>1.800000</td>\n",
              "    </tr>\n",
              "    <tr>\n",
              "      <th>max</th>\n",
              "      <td>7.900000</td>\n",
              "      <td>4.400000</td>\n",
              "      <td>6.900000</td>\n",
              "      <td>2.500000</td>\n",
              "    </tr>\n",
              "  </tbody>\n",
              "</table>\n",
              "</div>"
            ],
            "text/plain": [
              "              5.1         3.5         1.4         0.2\n",
              "count  149.000000  149.000000  149.000000  149.000000\n",
              "mean     5.848322    3.051007    3.774497    1.205369\n",
              "std      0.828594    0.433499    1.759651    0.761292\n",
              "min      4.300000    2.000000    1.000000    0.100000\n",
              "25%      5.100000    2.800000    1.600000    0.300000\n",
              "50%      5.800000    3.000000    4.400000    1.300000\n",
              "75%      6.400000    3.300000    5.100000    1.800000\n",
              "max      7.900000    4.400000    6.900000    2.500000"
            ]
          },
          "metadata": {
            "tags": []
          },
          "execution_count": 9
        }
      ]
    },
    {
      "cell_type": "code",
      "metadata": {
        "id": "73161c11",
        "outputId": "77cccfe9-6d9c-44e9-aa0e-d3a753c0bd93"
      },
      "source": [
        "print(\"Number of Sampels:\",iris_df.shape[0])\n",
        "print(\"Number of Features:\",iris_df.shape[1]-1) #-1 for excluding class label"
      ],
      "id": "73161c11",
      "execution_count": null,
      "outputs": [
        {
          "output_type": "stream",
          "text": [
            "Number of Sampels: 150\n",
            "Number of Features: 4\n"
          ],
          "name": "stdout"
        }
      ]
    },
    {
      "cell_type": "code",
      "metadata": {
        "id": "18bb8ebc",
        "outputId": "c88f8bb2-32e2-4e88-dd76-6a45462d62d3"
      },
      "source": [
        "print(\"Checking for Class Imbalance\")\n",
        "print(\"Class Distribution\")\n",
        "print(iris_df['PlantClass'].value_counts())"
      ],
      "id": "18bb8ebc",
      "execution_count": null,
      "outputs": [
        {
          "output_type": "stream",
          "text": [
            "Checking for Class Imbalance\n",
            "Class Distribution\n",
            "Iris-setosa        50\n",
            "Iris-versicolor    50\n",
            "Iris-virginica     50\n",
            "Name: PlantClass, dtype: int64\n"
          ],
          "name": "stdout"
        }
      ]
    },
    {
      "cell_type": "code",
      "metadata": {
        "colab": {
          "base_uri": "https://localhost:8080/",
          "height": 535
        },
        "id": "d0b52889",
        "outputId": "e842d667-280c-4439-9753-26322d786294"
      },
      "source": [
        "# Reducing number of features for visualization\n",
        "X = iris_df.drop(\"PlantClass\",axis=1)\n",
        "y = iris_df['PlantClass']\n",
        "# Encode the Class Labels\n",
        "le = preprocessing.LabelEncoder()\n",
        "y = le.fit_transform(y)\n",
        "\n",
        "pca = PCA(n_components=2)\n",
        "X_pca = pca.fit_transform(X)\n",
        "df = pd.DataFrame(X_pca,columns=('X','Y',))\n",
        "df['labels'] = y\n",
        "print(df)\n",
        "sns.scatterplot(data=df, x=\"X\", y=\"Y\", hue=\"labels\")"
      ],
      "id": "d0b52889",
      "execution_count": null,
      "outputs": [
        {
          "output_type": "stream",
          "text": [
            "            X         Y  labels\n",
            "0   -2.684207  0.326607       0\n",
            "1   -2.715391 -0.169557       0\n",
            "2   -2.889820 -0.137346       0\n",
            "3   -2.746437 -0.311124       0\n",
            "4   -2.728593  0.333925       0\n",
            "..        ...       ...     ...\n",
            "145  1.944017  0.187415       2\n",
            "146  1.525664 -0.375021       2\n",
            "147  1.764046  0.078519       2\n",
            "148  1.901629  0.115877       2\n",
            "149  1.389666 -0.282887       2\n",
            "\n",
            "[150 rows x 3 columns]\n"
          ],
          "name": "stdout"
        },
        {
          "output_type": "execute_result",
          "data": {
            "text/plain": [
              "<matplotlib.axes._subplots.AxesSubplot at 0x7f4ddcb5ba10>"
            ]
          },
          "metadata": {
            "tags": []
          },
          "execution_count": 45
        },
        {
          "output_type": "display_data",
          "data": {
            "image/png": "[encoded data removed]",
            "text/plain": [
              "<Figure size 432x288 with 1 Axes>"
            ]
          },
          "metadata": {
            "tags": [],
            "needs_background": "light"
          }
        }
      ]
    },
    {
      "cell_type": "markdown",
      "metadata": {
        "id": "62b7276f"
      },
      "source": [
        "Conclusions from EDA <br>\n",
        "> ->Equal number of sample of each class is present <br>\n",
        "> ->Dataset is quite small <br>\n",
        "> ->One of the three classes are easily distinguishable, however other two overlap a little, <br>\n",
        "  so chances of confusion between these two classes, would check using confusion matrix\n"
      ],
      "id": "62b7276f"
    },
    {
      "cell_type": "markdown",
      "metadata": {
        "id": "c6ea103c"
      },
      "source": [
        "Split Dataset into Testing-Training"
      ],
      "id": "c6ea103c"
    },
    {
      "cell_type": "code",
      "metadata": {
        "id": "102722a9"
      },
      "source": [
        "## Uncomment if Required\n",
        "# X_train, X_test, y_train, y_test = train_test_split(X,y,test_size=0.33,stratify=y)\n",
        "# X_train.shape"
      ],
      "id": "102722a9",
      "execution_count": 190,
      "outputs": []
    },
    {
      "cell_type": "markdown",
      "metadata": {
        "id": "01fcaf2a"
      },
      "source": [
        "## Linear Regression using Numpy\n",
        "Equation for Normal Equations to calculate weights: ![image.png](data:image/png;base64,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) <br>\n",
        "Reference: Bishop Book page 142"
      ],
      "id": "01fcaf2a"
    },
    {
      "cell_type": "code",
      "metadata": {
        "id": "d9344db6"
      },
      "source": [
        "def numpy_linear_regression(X, y):\n",
        "    '''\n",
        "    The method takes in training data of features and labels.\n",
        "    \n",
        "    Returns: Two parameters-\n",
        "            -> y_intercept\n",
        "            -> rest of the coefficients\n",
        "    '''\n",
        "    X_train = X.copy()\n",
        "    y_train = y.copy()\n",
        "    X_train.insert(0, 'ones', np.ones((X_train.shape[0],1))) # X.shape[0] gives the number of instances in X dataframe, append a column of ones as the first column\n",
        "    intercept_weights = np.dot( np.linalg.inv( (np.dot(X_train.T, X_train)) ), np.dot( X_train.T, y_train) )   #perform the operations given in equation to get the weights\n",
        "    return intercept_weights[0], intercept_weights[1:]"
      ],
      "id": "d9344db6",
      "execution_count": null,
      "outputs": []
    },
    {
      "cell_type": "code",
      "metadata": {
        "colab": {
          "base_uri": "https://localhost:8080/",
          "height": 0
        },
        "id": "JNzcyD79XE4x",
        "outputId": "ae6eef94-71f5-472c-e867-2c1712754fa1"
      },
      "source": [
        "result = numpy_linear_regression(X,y)\n",
        "print(\"Intercept:\",result[0])\n",
        "print(\"Coefficients:\",result[1])"
      ],
      "id": "JNzcyD79XE4x",
      "execution_count": 191,
      "outputs": [
        {
          "output_type": "stream",
          "text": [
            "Intercept: 0.19208399482819133\n",
            "Coefficients: [-0.10974146 -0.04424045  0.22700138  0.60989412]\n"
          ],
          "name": "stdout"
        }
      ]
    },
    {
      "cell_type": "markdown",
      "metadata": {
        "id": "eb95ddf3"
      },
      "source": [
        "## Linear Regression using Scikit-Learn"
      ],
      "id": "eb95ddf3"
    },
    {
      "cell_type": "code",
      "metadata": {
        "id": "420870a4"
      },
      "source": [
        "def sklearn_linear_regression(X,y):\n",
        "  '''\n",
        "  The method takes in training data of features and labels.\n",
        "  \n",
        "  Returns: Two parameters-\n",
        "          -> y_intercept\n",
        "          -> rest of the coefficients\n",
        "  '''\n",
        "  regressor = LinearRegression()\n",
        "  regressor.fit(X, y)\n",
        "  coefficients = regressor.coef_\n",
        "  intercept = regressor.intercept_\n",
        "  return intercept, coefficients\n"
      ],
      "id": "420870a4",
      "execution_count": 147,
      "outputs": []
    },
    {
      "cell_type": "code",
      "metadata": {
        "colab": {
          "base_uri": "https://localhost:8080/",
          "height": 0
        },
        "id": "0JYYRtoyYHSI",
        "outputId": "75814124-5bdc-42b5-babe-184d20ad9d4e"
      },
      "source": [
        "result = sklearn_linear_regression(X,y)\n",
        "print(\"Intercept:\",result[0])\n",
        "print(\"Coefficients:\",result[1])"
      ],
      "id": "0JYYRtoyYHSI",
      "execution_count": 148,
      "outputs": [
        {
          "output_type": "stream",
          "text": [
            "Intercept: 0.19208399482813865\n",
            "Coefficients: [-0.10974146 -0.04424045  0.22700138  0.60989412]\n"
          ],
          "name": "stdout"
        }
      ]
    },
    {
      "cell_type": "markdown",
      "metadata": {
        "id": "5e404476"
      },
      "source": [
        "# Linear Regression using TensorFlow"
      ],
      "id": "5e404476"
    },
    {
      "cell_type": "code",
      "metadata": {
        "id": "rtAilB6kgVcE"
      },
      "source": [
        "def tensorflow_linear_regression(X, y):\n",
        "    '''\n",
        "    The method takes in training data of features and labels.\n",
        "    \n",
        "    Returns: Two parameters-\n",
        "            -> y_intercept\n",
        "            -> rest of the coefficients\n",
        "    '''\n",
        "    X = X.to_numpy()\n",
        "    y = np.array(y).reshape((150,1))\n",
        "    instance_count = X.shape[1] # get number of features\n",
        "    ones = np.ones((X.shape[0], 1))\n",
        "    X = np.hstack((ones, X))\n",
        "    weights = tf.constant(X, dtype=\"float\", name=\"weights\")\n",
        "    bias = tf.constant(y, dtype=\"float\", name=\"bias\")\n",
        "    trans = tf.transpose(weights)\n",
        "    a = tf.matmul(trans, weights)\n",
        "    b = tf.linalg.inv(a)\n",
        "    c = tf.matmul(b, trans)\n",
        "    theta = tf.matmul(c, y)\n",
        "    theta_value = theta.numpy().reshape(-1)\n",
        "    return theta_value[0], theta_value[1:]"
      ],
      "id": "rtAilB6kgVcE",
      "execution_count": 167,
      "outputs": []
    },
    {
      "cell_type": "code",
      "metadata": {
        "colab": {
          "base_uri": "https://localhost:8080/",
          "height": 0
        },
        "id": "BFUbzmGHv42B",
        "outputId": "2994c24d-292b-4c6d-91f8-2c88dbba1b25"
      },
      "source": [
        "result = tensorflow_linear_regression(X,y)\n",
        "print(\"Intercept:\",result[0])\n",
        "print(\"Coefficients:\",result[1])"
      ],
      "id": "BFUbzmGHv42B",
      "execution_count": 200,
      "outputs": [
        {
          "output_type": "stream",
          "text": [
            "Intercept: 0.19200426\n",
            "Coefficients: [-0.10972989 -0.04423443  0.22699767  0.6098999 ]\n"
          ],
          "name": "stdout"
        }
      ]
    },
    {
      "cell_type": "markdown",
      "metadata": {
        "id": "yxXp_J8B2mFc"
      },
      "source": [
        "# THANK YOU "
      ],
      "id": "yxXp_J8B2mFc"
    },
    {
      "cell_type": "code",
      "metadata": {
        "id": "2wmemOO_2okI"
      },
      "source": [
        ""
      ],
      "id": "2wmemOO_2okI",
      "execution_count": null,
      "outputs": []
    }
  ]
}